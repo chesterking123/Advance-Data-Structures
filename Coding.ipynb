{
 "cells": [
  {
   "cell_type": "markdown",
   "metadata": {},
   "source": [
    "# Longest Increasing Subsequence"
   ]
  },
  {
   "cell_type": "code",
   "execution_count": 7,
   "metadata": {},
   "outputs": [
    {
     "name": "stdout",
     "output_type": "stream",
     "text": [
      "4\n"
     ]
    }
   ],
   "source": [
    "nums = [1,5,8,3,6,9,0]\n",
    "tails = [0] * len(nums)\n",
    "size = 0\n",
    "for x in nums:\n",
    "    i, j = 0, size\n",
    "    while i != j:\n",
    "        m = (i + j) // 2\n",
    "        if tails[m] < x:\n",
    "            i = m + 1\n",
    "        else:\n",
    "            j = m\n",
    "    tails[i] = x\n",
    "    size = max(i + 1, size)\n",
    "print(size)\n"
   ]
  },
  {
   "cell_type": "markdown",
   "metadata": {},
   "source": [
    "# remove consequtive characters appearing k times"
   ]
  },
  {
   "cell_type": "code",
   "execution_count": 71,
   "metadata": {},
   "outputs": [
    {
     "name": "stdout",
     "output_type": "stream",
     "text": [
      "cc"
     ]
    }
   ],
   "source": [
    "string = 'aabbbacc'\n",
    "k=3\n",
    "ans = []\n",
    "stack = []\n",
    "counter = 0\n",
    "flag = 0\n",
    "a= []\n",
    "for letter in string:\n",
    "    if(string.count(letter)>=k):\n",
    "        a.append(letter)\n",
    "    if(flag == 0):\n",
    "        stack.append(letter)\n",
    "        flag = 1\n",
    "        counter += 1\n",
    "    elif(len(stack)!=0 and letter == stack[-1]):\n",
    "        stack.append(letter)\n",
    "        counter += 1\n",
    "    elif(len(stack)!=0 and letter != stack[-1]):\n",
    "        if(counter<2):\n",
    "            ans.append(''.join(stack))\n",
    "            stack.clear()\n",
    "            stack.append(letter)\n",
    "            counter = 1\n",
    "        if(counter>=2):\n",
    "            stack.clear()\n",
    "            stack.append(letter)\n",
    "            counter = 1\n",
    "ans.append(''.join(stack))\n",
    "ans=''.join(ans)\n",
    "for i in ans:\n",
    "    if(i in a):\n",
    "        continue\n",
    "    else:\n",
    "        print(i,end='')"
   ]
  },
  {
   "cell_type": "markdown",
   "metadata": {},
   "source": [
    "# You're given a pattern and a string. You need to remove all the substrings that match the pattern. You need to do this with O(1) space complexity."
   ]
  },
  {
   "cell_type": "code",
   "execution_count": null,
   "metadata": {},
   "outputs": [],
   "source": [
    "## Question\n",
    "\n",
    "ar=[1,0,0,1,1,0,1,0,0,1]\n",
    "num = 0\n",
    "last = len(ar)\n",
    "position = 0\n",
    "for i in range(len(ar)):\n",
    "    if(ar[i]==num):\n",
    "        ar[position],ar[i] = ar[i],ar[position]\n",
    "        position = position+1\n",
    "#print(position)\n",
    "#print(ar)\n",
    "n=0\n",
    "while(position < len(ar) and n < len(ar)):\n",
    "    ar[n],ar[position]= ar[position],ar[n]\n",
    "    n+=2\n",
    "    position+=1\n",
    "print(ar)"
   ]
  },
  {
   "cell_type": "markdown",
   "metadata": {},
   "source": [
    "# Two sorted arrays are given. You need to print pairs which differ by 1. Each element of the pair should come from the two different arrays.\n"
   ]
  },
  {
   "cell_type": "code",
   "execution_count": null,
   "metadata": {},
   "outputs": [],
   "source": [
    "\n",
    "ar1 = [5,20,8,1,3]\n",
    "ar2 = [6,10,4,9,11]\n",
    "\n",
    "diff = 1\n",
    "for i in range(len(ar2)):\n",
    "    if(ar2[i]>diff):\n",
    "        if(ar2[i]-diff in ar1):\n",
    "            print(ar2[i],ar2[i]-diff)\n",
    "    else:\n",
    "        if(diff-ar2[i] in ar1):\n",
    "            print(ar2[i],ar2[i]-diff)\n"
   ]
  },
  {
   "cell_type": "markdown",
   "metadata": {},
   "source": [
    "# Longest Common substring in 2 strings. \n"
   ]
  },
  {
   "cell_type": "code",
   "execution_count": null,
   "metadata": {},
   "outputs": [],
   "source": [
    "\n",
    "s1 = 'director'\n",
    "s2 = 'conductor'\n",
    "ar = []\n",
    "\n",
    "if(len(s1)<len(s2)):\n",
    "    s1,s2 = s2,s1\n",
    "n=0\n",
    "while(n<len(s1)):\n",
    "    for i in range(n,len(s1)):\n",
    "        if(s1[n:i+1] in s2):\n",
    "            ar.append(s1[n:i+1])\n",
    "    n+=1\n",
    "ar= sorted(ar,key = len)      \n",
    "print(ar[-1])\n",
    "            "
   ]
  },
  {
   "cell_type": "markdown",
   "metadata": {},
   "source": [
    "# substring sum equals 0\n"
   ]
  },
  {
   "cell_type": "code",
   "execution_count": null,
   "metadata": {},
   "outputs": [],
   "source": [
    "A = [3, 4, -7, 1, 3, 3, 1, -4]\n",
    "sum = 0\n",
    "dict = {}\n",
    "dict.setdefault(0, []).append(-1)\n",
    "sum_so_far = 0\n",
    "for index in range(len(A)):\n",
    "    sum_so_far += A[index]\n",
    "    if (sum_so_far - sum) in dict:\n",
    "        list = dict.get(sum_so_far - sum)\n",
    "        for value in list:\n",
    "            #print(A[value+1: index+1])\n",
    "            print(value+1,index+1)\n",
    "    dict.setdefault(sum_so_far, []).append(index)\n"
   ]
  },
  {
   "cell_type": "markdown",
   "metadata": {},
   "source": [
    "# find k closest elements in an array\n"
   ]
  },
  {
   "cell_type": "code",
   "execution_count": null,
   "metadata": {},
   "outputs": [],
   "source": [
    "# if x <= arr[0]: return arr[:k]\n",
    "# if x >= arr[-1]: return arr[-k:]\n",
    "l,r = 0, len(arr)-k\n",
    "while l <r:\n",
    "    m =(l+r)>>1\n",
    "    if x-arr[m]> arr[m+k]-x:\n",
    "        l = m + 1\n",
    "    else:\n",
    "        r = m\n",
    "return arr[l:l+k]"
   ]
  },
  {
   "cell_type": "markdown",
   "metadata": {},
   "source": [
    "# First coding question was that - Write code to find whether the given string \"rtnagtorawrorlo\" contains the word \"nagarro\"\n"
   ]
  },
  {
   "cell_type": "code",
   "execution_count": 3,
   "metadata": {},
   "outputs": [
    {
     "name": "stdout",
     "output_type": "stream",
     "text": [
      "Not Found\n"
     ]
    }
   ],
   "source": [
    "\n",
    "s1 = 'rtnagtorawrorlo'\n",
    "s2 = 'nagarro'\n",
    "\n",
    "if(s2 in s1):\n",
    "    print('String Found')\n",
    "else:\n",
    "    print('Not Found')\n",
    "    \n",
    "#if you want to ignore case then use string.lower() to lower the case"
   ]
  },
  {
   "cell_type": "code",
   "execution_count": null,
   "metadata": {},
   "outputs": [],
   "source": [
    "s1 = \"for\"\n",
    "s2 = \"geeksforgeeks\"\n",
    "for i in range(len(s2)-len(s1)):\n",
    "    if(s2[i:i+len(s1)] == s1):\n",
    "        print('Found')\n",
    "        break\n",
    "print('Not Found')"
   ]
  },
  {
   "cell_type": "markdown",
   "metadata": {},
   "source": [
    "# Frequency of words in a String #TestCase: \"how do you do\" #Output: how=1 do=2 you=1\n"
   ]
  },
  {
   "cell_type": "code",
   "execution_count": null,
   "metadata": {},
   "outputs": [],
   "source": [
    "\n",
    "string = 'how do you do'\n",
    "string = string.split()\n",
    "for word in string:\n",
    "    print(word,':', string.count(word))"
   ]
  },
  {
   "cell_type": "markdown",
   "metadata": {},
   "source": [
    "# Unique elememts from a string"
   ]
  },
  {
   "cell_type": "code",
   "execution_count": null,
   "metadata": {},
   "outputs": [],
   "source": [
    "string = 'Nagarro'\n",
    "string = list(string)\n",
    "for letter in string:\n",
    "    if(string.count(letter)==1):\n",
    "        print(letter)"
   ]
  },
  {
   "cell_type": "markdown",
   "metadata": {},
   "source": [
    "# Wave Matrix"
   ]
  },
  {
   "cell_type": "code",
   "execution_count": null,
   "metadata": {},
   "outputs": [],
   "source": [
    "#WAVE MATRIX\n",
    "m = [\n",
    "    [1,2,3,4],\n",
    "    [5,6,7,8],\n",
    "    [9,10,11,12],\n",
    "    [13,14,15,16]\n",
    "    ]"
   ]
  },
  {
   "cell_type": "code",
   "execution_count": null,
   "metadata": {},
   "outputs": [],
   "source": [
    "for j in range(len(m[0])):\n",
    "    if(j%2!=0): \n",
    "        for i in range(len(m)-1,-1,-1):\n",
    "            print(m[i][j],end = ' ')\n",
    "    if(j%2==0):\n",
    "        for i in range(len(m)):\n",
    "            print(m[i][j],end = ' ')\n"
   ]
  },
  {
   "cell_type": "markdown",
   "metadata": {},
   "source": [
    "# Spiral Matrix Print\n"
   ]
  },
  {
   "cell_type": "code",
   "execution_count": null,
   "metadata": {},
   "outputs": [],
   "source": [
    "matrix = [\n",
    "    [1,2,3,4],\n",
    "    [5,6,7,8],\n",
    "    [9,10,11,12],\n",
    "    [13,14,15,16]\n",
    "    ]\n",
    "\n",
    "l = 0\n",
    "r = len(matrix[0]) - 1\n",
    "t = 0\n",
    "b = len(matrix) - 1\n",
    "\n",
    "ret = []\n",
    "while l < r and t < b:\n",
    "    # top\n",
    "    for i in range(l, r):\n",
    "        ret.append(matrix[t][i])\n",
    "    # right\n",
    "    for i in range(t, b):\n",
    "        ret.append(matrix[i][r])\n",
    "    # bottom\n",
    "    for i in range(r, l, -1):\n",
    "        ret.append(matrix[b][i])\n",
    "    # left\n",
    "    for i in range(b, t, -1):\n",
    "        ret.append(matrix[i][l])\n",
    "\n",
    "    l += 1\n",
    "    r -= 1 \n",
    "    t += 1\n",
    "    b -= 1\n",
    "\n",
    "# single square\n",
    "if l == r and t == b:\n",
    "    ret.append(matrix[t][l])\n",
    "# vertical line\n",
    "elif l == r:\n",
    "    for i in range(t, b + 1):\n",
    "        ret.append(matrix[i][l])\n",
    "# horizontal line\n",
    "elif t == b:\n",
    "    for i in range(l, r + 1):\n",
    "        ret.append(matrix[t][i])\n",
    "print(ret) "
   ]
  },
  {
   "cell_type": "markdown",
   "metadata": {},
   "source": [
    "## Finding duplicates O(n)O(1)"
   ]
  },
  {
   "cell_type": "code",
   "execution_count": 5,
   "metadata": {},
   "outputs": [
    {
     "name": "stdout",
     "output_type": "stream",
     "text": [
      "2\n",
      "8\n"
     ]
    }
   ],
   "source": [
    "arr = [1,2,8,4,6,3,2,8]\n",
    "n= len(arr)\n",
    "for i in range(n):\n",
    "    if arr[abs(arr[i])-1] >=0 :\n",
    "        arr[abs(arr[i])-1] = -arr[abs(arr[i])-1]\n",
    "    else:\n",
    "        print(abs(arr[i]))\n"
   ]
  },
  {
   "cell_type": "markdown",
   "metadata": {},
   "source": [
    "# Sum of two strings numbers\n"
   ]
  },
  {
   "cell_type": "code",
   "execution_count": null,
   "metadata": {},
   "outputs": [],
   "source": [
    "#Sum of two strings numbers\n",
    "str1 = \"9999999999\" \n",
    "str2 =   \"9999\"\n",
    "extra = (len(str1)-len(str2))\n",
    "str2 = '0'*extra+str2\n",
    "carry = 0\n",
    "total=0\n",
    "ans = ''\n",
    "alert = 0\n",
    "for i in range(len(str1)-1,-1,-1):\n",
    "    alert+=1\n",
    "    total = int(str1[i])+int(str2[i])+int(carry)\n",
    "    carry=0\n",
    "    total = str(total)\n",
    "    if(int(total)>=10):\n",
    "        carry=total[0]\n",
    "        ans = str(total[1])+ans\n",
    "    else:\n",
    "        ans = str(total)+ans\n",
    "    if(int(carry)>0 and alert == len(str1)):\n",
    "        ans = str(carry)+ans\n",
    "print(ans)      "
   ]
  },
  {
   "cell_type": "markdown",
   "metadata": {},
   "source": [
    "# validate Java Program"
   ]
  },
  {
   "cell_type": "code",
   "execution_count": null,
   "metadata": {},
   "outputs": [],
   "source": [
    "ar = input()\n",
    "stack = []\n",
    "for i in range(len(ar)):\n",
    "    if(ar[i]=='{'):\n",
    "        stack.append(ar[i]) \n",
    "    if(len(stack)<1):\n",
    "        continue\n",
    "    elif(ar[i]=='}'):\n",
    "        if(stack[-1]=='{' and ar[i] == '}'):\n",
    "            stack.pop()\n",
    "    else:\n",
    "        continue\n",
    "if(len(stack)>0):\n",
    "    print('NO')\n",
    "else:\n",
    "    print('YES')"
   ]
  },
  {
   "cell_type": "markdown",
   "metadata": {},
   "source": [
    "# Program to find hcf\n"
   ]
  },
  {
   "cell_type": "code",
   "execution_count": null,
   "metadata": {},
   "outputs": [],
   "source": [
    "def find_gcd(x, y): \n",
    "    while(y): \n",
    "        x, y = y, x % y \n",
    "  \n",
    "    return x \n",
    "      \n",
    "      \n",
    "l = [4,2,8] \n",
    "gcd=find_gcd(l[0],l[1]) \n",
    "for i in range(2,len(l)): \n",
    "    gcd=find_gcd(gcd,l[i])\n",
    "    \n",
    "      \n",
    "print(gcd) "
   ]
  },
  {
   "cell_type": "markdown",
   "metadata": {},
   "source": [
    "# Dict Sorting"
   ]
  },
  {
   "cell_type": "code",
   "execution_count": null,
   "metadata": {},
   "outputs": [],
   "source": [
    "#A = [1,6,1,2,2,8,6,6]    \n",
    "def reduce(num):\n",
    "    divnumber = int(math.log10(num))\n",
    "    return(num//int('1'+'0'*divnumber))\n",
    "\n",
    "def reduce2(num):\n",
    "    if(int(math.log10(num)+1)==1):\n",
    "        return(0)\n",
    "    if(int(math.log10(num)+1)==2):\n",
    "        num = num%10\n",
    "        return(num)\n",
    "    if(int(math.log10(num)+1)==3):\n",
    "        num = num//10\n",
    "        return(num%10)\n",
    "    \n",
    "    \n",
    "def sort(A):\n",
    "    for i in range(len(A)): \n",
    "        min_idx = i \n",
    "        for j in range(i+1, len(A)):\n",
    "            if reduce(A[min_idx]) > reduce(A[j]): \n",
    "                min_idx = j \n",
    "        A[i], A[min_idx] = A[min_idx], A[i] \n",
    "    return(A)\n",
    "\n",
    "def sort2(A):\n",
    "    for i in range(len(A)): \n",
    "        min_idx = i \n",
    "        for j in range(i+1, len(A)):\n",
    "            if(reduce(A[min_idx]) == reduce(A[j])):\n",
    "                if reduce2(A[min_idx]) > reduce2(A[j]): \n",
    "                    min_idx = j \n",
    "        A[i], A[min_idx] = A[min_idx], A[i] \n",
    "    return(A)\n",
    "\n",
    "A = [1, 2, 3, 15, 22, 31, 100, 110, 150, 160, 250, 300]\n",
    "for i in range(2):\n",
    "    if(i==0):\n",
    "        A = sort(A)\n",
    "    if(i==1):\n",
    "        A = sort2(A)\n",
    "        \n",
    "print(A)"
   ]
  },
  {
   "cell_type": "markdown",
   "metadata": {},
   "source": [
    "# selective arrangemets\n"
   ]
  },
  {
   "cell_type": "code",
   "execution_count": null,
   "metadata": {},
   "outputs": [],
   "source": [
    "\n",
    "def countDer(n): \n",
    "    if (n == 1): return 0\n",
    "    if (n == 0): return 1\n",
    "    if (n == 2): return 1\n",
    "    \n",
    "    ar = '0'*(n+1)\n",
    "    ar=list(map(int,ar))\n",
    "      \n",
    "    ar[0] = 1\n",
    "    ar[1] = 0\n",
    "    ar[2] = 1\n",
    " \n",
    "    for i in range(3, len(ar)): \n",
    "        ar[i] = (i - 1) * (ar[i - 1] + ar[i - 2]) \n",
    "          \n",
    "    print(ar)\n",
    "    return ar[n] \n",
    "  \n",
    "n =5\n",
    "print(\"Count of Derangements is \", countDer(n)) "
   ]
  },
  {
   "cell_type": "markdown",
   "metadata": {},
   "source": [
    "# calculate HCF"
   ]
  },
  {
   "cell_type": "code",
   "execution_count": 8,
   "metadata": {},
   "outputs": [
    {
     "name": "stdout",
     "output_type": "stream",
     "text": [
      "5\n"
     ]
    }
   ],
   "source": [
    "def cal_hcf(n1,n2):\n",
    "    if(n1%n2 == 0):\n",
    "        return n2\n",
    "    return cal_hcf(n2,n1%n2)\n",
    "\n",
    "if __name__ == '__main__':\n",
    "    #ar = [18,27,30,45,51,60]\n",
    "    ar = [65,10,30,45,55,20]\n",
    "    n = cal_hcf(ar[0],ar[1])\n",
    "\n",
    "    for i in range(2,len(ar)):\n",
    "        n = cal_hcf(n,ar[i])\n",
    "    print(n)"
   ]
  },
  {
   "cell_type": "markdown",
   "metadata": {},
   "source": []
  },
  {
   "cell_type": "code",
   "execution_count": null,
   "metadata": {},
   "outputs": [],
   "source": []
  }
 ],
 "metadata": {
  "kernelspec": {
   "display_name": "Python 3",
   "language": "python",
   "name": "python3"
  },
  "language_info": {
   "codemirror_mode": {
    "name": "ipython",
    "version": 3
   },
   "file_extension": ".py",
   "mimetype": "text/x-python",
   "name": "python",
   "nbconvert_exporter": "python",
   "pygments_lexer": "ipython3",
   "version": "3.7.4"
  }
 },
 "nbformat": 4,
 "nbformat_minor": 2
}
